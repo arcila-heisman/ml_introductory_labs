{
  "nbformat": 4,
  "nbformat_minor": 0,
  "metadata": {
    "accelerator": "GPU",
    "colab": {
      "name": "Laboratorio_4_parte_1.ipynb",
      "version": "0.3.2",
      "provenance": [],
      "include_colab_link": true
    },
    "kernelspec": {
      "name": "python3",
      "display_name": "Python 3"
    },
    "language_info": {
      "codemirror_mode": {
        "name": "ipython",
        "version": 3
      },
      "file_extension": ".py",
      "mimetype": "text/x-python",
      "name": "python",
      "nbconvert_exporter": "python",
      "pygments_lexer": "ipython3",
      "version": "3.7.4"
    }
  },
  "cells": [
    {
      "cell_type": "markdown",
      "metadata": {
        "id": "view-in-github",
        "colab_type": "text"
      },
      "source": [
        "<a href=\"https://colab.research.google.com/github/arcila-heisman/ml_introductory_labs/blob/master/Lab_4/Laboratorio_4_parte_1.ipynb\" target=\"_parent\"><img src=\"https://colab.research.google.com/assets/colab-badge.svg\" alt=\"Open In Colab\"/></a>"
      ]
    },
    {
      "cell_type": "markdown",
      "metadata": {
        "colab_type": "text",
        "id": "t7Yz-KfzHjry"
      },
      "source": [
        "# Laboratorio 4 - Parte 1\n",
        "\n",
        "### Redes Neuronales Artificiales: MLP\n",
        "\n",
        "### 2019-I\n",
        "\n",
        "#### Profesor: Julián D. Arias Londoño\n",
        "#### julian.ariasl@udea.edu.co\n",
        "\n",
        "Modificado por Heisman Arcila. (Versión original en: https://github.com/jdariasl/ML_IntroductoryCourse/tree/master/Labs)"
      ]
    },
    {
      "cell_type": "markdown",
      "metadata": {
        "colab_type": "text",
        "id": "d5hNQTYMHjr5"
      },
      "source": [
        "## Guía del laboratorio\n",
        "\n",
        "En esta archivo va a encontrar tanto celdas de código cómo celdas de texto con las instrucciones para desarrollar el laboratorio.\n",
        "\n",
        "Lea atentamente las instrucciones entregadas en las celdas de texto correspondientes y proceda con la solución de las preguntas planteadas.\n",
        "\n",
        "Nota: no olvide ir ejecutando las celdas de código de arriba hacia abajo para que no tenga errores de importación de librerías o por falta de definición de variables."
      ]
    },
    {
      "cell_type": "markdown",
      "metadata": {
        "colab_type": "text",
        "id": "m9zawQf_Hjr_"
      },
      "source": [
        "#### Primer Integrante:\n",
        "#### CC:\n",
        "#### Segundo Integrante:\n",
        "#### CC:"
      ]
    },
    {
      "cell_type": "code",
      "metadata": {
        "colab_type": "code",
        "id": "S-JyXEJuHjsD",
        "colab": {}
      },
      "source": [
        "from __future__ import division\n",
        "import numpy as np\n",
        "import math\n",
        "import matplotlib.pyplot as plt\n",
        "#Algunas advertencias que queremos evitar\n",
        "import warnings\n",
        "warnings.filterwarnings(\"ignore\")"
      ],
      "execution_count": 0,
      "outputs": []
    },
    {
      "cell_type": "markdown",
      "metadata": {
        "colab_type": "text",
        "id": "43CiWQ2zHjsU"
      },
      "source": [
        "## Indicaciones\n",
        "\n",
        "Este ejercicio tiene como objetivo implementar una red neuronal artificial de tipo perceptrón multicapa (MLP) para resolver un problema de regresión. Usaremos la librería sklearn. Consulte todo lo relacionado con la definición de hiperparámetros, los métodos para el entrenamiento y la predicción de nuevas muestras en el siguiente enlace: http://scikit-learn.org/stable/modules/generated/sklearn.neural_network.MLPRegressor.html#sklearn.neural_network.MLPRegressor"
      ]
    },
    {
      "cell_type": "code",
      "metadata": {
        "colab_type": "code",
        "id": "LVh0GTu3Hjsq",
        "colab": {}
      },
      "source": [
        "#Mean Absolute Percentage Error para los problemas de regresión\n",
        "def MAPE(Y_est,Y):\n",
        "    N = np.size(Y)\n",
        "    mape = np.sum(abs((Y_est.reshape(N,1) - Y.reshape(N,1))/Y.reshape(N,1)))/N\n",
        "    return mape "
      ],
      "execution_count": 0,
      "outputs": []
    },
    {
      "cell_type": "markdown",
      "metadata": {
        "colab_type": "text",
        "id": "9YnqnK6-Hjs3"
      },
      "source": [
        "## Ejercicio 1\n",
        "\n",
        "Complete el script siguiente con el código necesario para cargar los datos en el archivo 'DB/data_UCI.csv', y luego usar una red neuronal tipo MLP para solucionar el problema de regresión propuesto. Como función de activación en las capas ocultas use la función 'tanh'. Ajuste el número máximo de épocas a 500."
      ]
    },
    {
      "cell_type": "markdown",
      "metadata": {
        "id": "5g_mIppa6n_0",
        "colab_type": "text"
      },
      "source": [
        "Para este ejercicio usaremos la base de datos sobre la estabilidad de una red eléctrica distribuída, en este caso trataremos de predecir dos variables en lugar de una, es decir, abordaremos un problema de múltiples salidas."
      ]
    },
    {
      "cell_type": "code",
      "metadata": {
        "id": "yOfLC0p5x-Ob",
        "colab_type": "code",
        "colab": {}
      },
      "source": [
        "#cargue la bd que está en un archivo .csv y ahora la podemos manejar de forma matricial\n",
        "db = np.loadtxt...\n",
        "\n",
        "#Esta es la base de datos Electrical Grid Stability Simulated Data Data Set del UCI Machine Learning Repository. \n",
        "#En la siguiente URL se encuentra toda la descripción de la base de datos y la contextualización del problema.\n",
        "#En éste caso se ha mapeado a 0 la red inestable y a 1 la red estable en la columna stabf\n",
        "#https://archive.ics.uci.edu/ml/datasets/Electrical+Grid+Stability+Simulated+Data\n",
        "\n",
        "X = db[:,0:11]\n",
        "Y = db[:,11:13]"
      ],
      "execution_count": 0,
      "outputs": []
    },
    {
      "cell_type": "code",
      "metadata": {
        "colab_type": "code",
        "id": "EVXi6HdJHjs8",
        "colab": {}
      },
      "source": [
        "from numpy import random\n",
        "from sklearn.neural_network import MLPRegressor\n",
        "from sklearn.model_selection import ShuffleSplit\n",
        "from sklearn import preprocessing\n",
        "import numpy.matlib as matlib\n",
        "\n",
        "  \n",
        "#Validamos el modelo\n",
        "Folds = 4\n",
        "random.seed(19680801)\n",
        "ErrorY1 = np.zeros(Folds)\n",
        "ErrorY2 = np.zeros(Folds)\n",
        "ErrorT = np.zeros(Folds)\n",
        "ss = ShuffleSplit(n_splits=Folds, test_size=0.3)\n",
        "j = 0\n",
        "for train, test in ss.split(X):\n",
        "    Xtrain = X[train,:]\n",
        "    Ytrain = Y[train,:]\n",
        "    Xtest = X[test,:]\n",
        "    Ytest = Y[test,:]\n",
        "\n",
        "    #Normalizamos los datos\n",
        "    media = np.mean(Xtrain,axis=0)\n",
        "    desvia = np.std(Xtrain,axis=0)\n",
        "    Xtrain = preprocessing.scale(Xtrain)\n",
        "    Xtest = (Xtest - matlib.repmat(media, Xtest.shape[0], 1))/matlib.repmat(desvia, Xtest.shape[0], 1)\n",
        "\n",
        "    #Haga el llamado a la función para crear y entrenar el modelo usando los datos de entrenamiento\n",
        "    mlp = \n",
        "\n",
        "    #Use para el modelo para hacer predicciones sobre el conjunto Xtest\n",
        "    Yest =\n",
        "\n",
        "    #Mida el error MAPE para cada una de las dos salidas\n",
        "    ErrorY1[j] = \n",
        "    ErrorY2[j] = \n",
        "    ErrorT[j] = (ErrorY1[j] + ErrorY2[j])/2\n",
        "    j += 1\n",
        "\n",
        "  print('MAPE salida 1 = ' + str(np.mean(ErrorY1)) + '+-' + str(np.std(ErrorY1)))\n",
        "  print('MAPE salida 2 = ' + str(np.mean(ErrorY2)) + '+-' + str(np.std(ErrorY2)))\n",
        "  print('MAPE total = '    + str(np.mean(ErrorT)) + '+-' + str(np.std(ErrorT)))"
      ],
      "execution_count": 0,
      "outputs": []
    },
    {
      "cell_type": "markdown",
      "metadata": {
        "colab_type": "text",
        "id": "Tcb1eWxIHjtK"
      },
      "source": [
        "## Ejercicio 2\n",
        "\n",
        "Una vez completado el código anterior. Realice los experimentos necesarios para completar la tabla siguiente:"
      ]
    },
    {
      "cell_type": "code",
      "metadata": {
        "colab_type": "code",
        "id": "XWQ73n-kHjtO",
        "colab": {}
      },
      "source": [
        "import pandas as pd\n",
        "import qgrid\n",
        "\n",
        "df_types = pd.DataFrame({\n",
        "    'N. de capas ocultas' : pd.Series([1,1,1,1,1,2,2,2,2,2]),\n",
        "    'Neuronas por capa' : pd.Series([20,24,28,32,36,20,24,28,32,36])})\n",
        "df_types[\"MAPE salida 1\"] = \"\"\n",
        "df_types[\"IC MAPE salida 1\"] = \"\"\n",
        "df_types[\"MAPE salida 2\"] = \"\"\n",
        "df_types[\"IC MAPE salida 2\"] = \"\"\n",
        "df_types.set_index(['N. de capas ocultas','Neuronas por capa'], inplace=True)\n",
        "\n",
        "\"\"\"\n",
        "df_types[\"MAPE salida 1\"][1,28] = 1.36375\t\n",
        "df_types[\"IC MAPE salida 1\"][1,28] = 1.59267\t\n",
        "df_types[\"MAPE salida 2\"][1,28] = 1.50101\t\n",
        "df_types[\"IC MAPE salida 2\"][1,28] = 0.863546\n",
        "\"\"\"\n",
        "#Ponga acá su código, use como valores de referencia los valores anteriores para comprobar su código\n",
        "\n",
        "\n",
        "\n",
        "qgrid_widget = qgrid.show_grid(df_types, show_toolbar=False)\n",
        "qgrid_widget"
      ],
      "execution_count": 0,
      "outputs": []
    },
    {
      "cell_type": "markdown",
      "metadata": {
        "colab_type": "text",
        "id": "-J-UpBXIHjtg"
      },
      "source": [
        "Ejecute la siguiente instrucción para dejar guardados en el notebook los resultados de las pruebas."
      ]
    },
    {
      "cell_type": "code",
      "metadata": {
        "colab_type": "code",
        "id": "Bc4xikG9Hjtk",
        "colab": {}
      },
      "source": [
        "qgrid_widget.get_changed_df()"
      ],
      "execution_count": 0,
      "outputs": []
    },
    {
      "cell_type": "markdown",
      "metadata": {
        "colab_type": "text",
        "id": "FpV-jHMHHjt7"
      },
      "source": [
        "<b>Responda</b>:\n",
        "\n",
        "2.1 ¿Qué tipo de función de activación usa el modelo en la capa de salida?: "
      ]
    },
    {
      "cell_type": "markdown",
      "metadata": {
        "colab_type": "text",
        "id": "TgmqdcalHjuA"
      },
      "source": [
        "## Ejercicio 3.\n",
        "\n",
        "A continuación se leen los datos de un problema de clasificación. El problema corresponde a la clasifiación imagenes de prendas de vestir. \n",
        "Usaremos 10 clases disponibles. \n",
        "Los datos fueron preprocesados para cambiar su dimensionalidad a una adecuada para el problema.\n",
        "\n",
        "https://keras.io/datasets/#fashion-mnist-database-of-fashion-articles"
      ]
    },
    {
      "cell_type": "code",
      "metadata": {
        "id": "JAJeYEWN0fyZ",
        "colab_type": "code",
        "colab": {}
      },
      "source": [
        "from keras import datasets\n",
        "(x, y), (_, _) = datasets.fashion_mnist.load_data()\n",
        "X = x.reshape(x.shape[0],x.shape[1]*x.shape[2])[:2000,:]\n",
        "Y = y[:2000]"
      ],
      "execution_count": 0,
      "outputs": []
    },
    {
      "cell_type": "markdown",
      "metadata": {
        "colab_type": "text",
        "id": "MExOt2tjHjuY"
      },
      "source": [
        "Este ejercicio tiene como objetivo implementar una red neuronal artificial de tipo perceptrón multicapa (MLP) para resolver un problema de clasificación. Usaremos la librería sklearn. Consulte todo lo relacionado con la definición de hiperparámetros, los métodos para el entrenamiento y la predicción de nuevas muestras en el siguiente enlace: http://scikit-learn.org/stable/modules/generated/sklearn.neural_network.MLPClassifier.html#sklearn.neural_network.MLPClassifier"
      ]
    },
    {
      "cell_type": "markdown",
      "metadata": {
        "colab_type": "text",
        "id": "PNsv3tB8Hjud"
      },
      "source": [
        "Complete el script siguiente con el código necesario para usar una red neuronal tipo MLP para solucionar el problema de clasificación propuesto. Como función de activación en las capas ocultas use la función 'tanh'. Ajuste el número máximo de épocas a 500."
      ]
    },
    {
      "cell_type": "code",
      "metadata": {
        "colab_type": "code",
        "id": "IEpr4xy_Hjui",
        "colab": {}
      },
      "source": [
        "from sklearn.neural_network import MLPClassifier\n",
        "from sklearn.model_selection import StratifiedKFold\n",
        "\n",
        "Folds = 4\n",
        "random.seed(19680801)\n",
        "EficienciaTrain = np.zeros(Folds)\n",
        "EficienciaVal = np.zeros(Folds)\n",
        "skf = StratifiedKFold(n_splits=Folds)\n",
        "j = 0\n",
        "for train, test in skf.split(X, Y):\n",
        "    Xtrain = X[train,:]\n",
        "    Ytrain = Y[train]\n",
        "    Xtest = X[test,:]\n",
        "    Ytest = Y[test]\n",
        "\n",
        "    #Normalizamos los datos\n",
        "    media = np.mean(Xtrain)\n",
        "    desvia = np.std(Xtrain)\n",
        "    Xtrain = preprocessing.scale(Xtrain)\n",
        "    Xtest = (Xtest - np.matlib.repmat(media, Xtest.shape[0], 1))/np.matlib.repmat(desvia, Xtest.shape[0], 1)\n",
        "\n",
        "    #Haga el llamado a la función para crear y entrenar el modelo usando los datos de entrenamiento\n",
        "    mlp = \n",
        "\n",
        "    #Validación con las muestras de entrenamiento\n",
        "    Ytrain_pred =\n",
        "\n",
        "    #Validación con las muestras de test    \n",
        "    Yest = \n",
        "\n",
        "    #Evaluamos las predicciones del modelo con los datos de test\n",
        "    EficienciaTrain[j] = np.mean(Ytrain_pred == Ytrain)\n",
        "    EficienciaVal[j] = \n",
        "    j += 1\n",
        "\n",
        "print('Eficiencia durante el entrenamiento = ' + str(np.mean(EficienciaTrain)) + '+-' + str(np.std(EficienciaTrain)))\n",
        "print('Eficiencia durante la validación = ' + str(np.mean(EficienciaVal)) + '+-' + str(np.std(EficienciaVal)))\n"
      ],
      "execution_count": 0,
      "outputs": []
    },
    {
      "cell_type": "markdown",
      "metadata": {
        "colab_type": "text",
        "id": "x_UEL4dtHjuv"
      },
      "source": [
        "## Ejercicio 4\n",
        "\n",
        "Una vez completado el código realice los experimentos necesarios para llenar la siguiente tabla:"
      ]
    },
    {
      "cell_type": "code",
      "metadata": {
        "colab_type": "code",
        "id": "cNidepSmHjuz",
        "colab": {}
      },
      "source": [
        "df_types = pd.DataFrame({\n",
        "    'N. de capas ocultas' : pd.Series([1,1,1,1,1,2,2,2,2,2]),\n",
        "    'Neuronas por capa' : pd.Series([20,24,28,32,36,20,24,28,32,36])})\n",
        "df_types[\"Eficiencia en validacion\"] = \"\"\n",
        "df_types[\"Intervalo de confianza\"] = \"\"\n",
        "df_types.set_index(['N. de capas ocultas','Neuronas por capa'], inplace=True)\n",
        "\"\"\"\n",
        "  df_types[\"Eficiencia en validacion\"][2,24] = 0.702417\t\n",
        "  df_types[\"Intervalo de confianza\"][2,24] = 0.027835\n",
        "\"\"\"\n",
        "#Ponga acá su código, use como valores de referencia los valores anteriores para comprobar su código\n",
        "\n",
        "\n",
        "\n",
        "qgrid_widget = qgrid.show_grid(df_types, show_toolbar=False)\n",
        "qgrid_widget"
      ],
      "execution_count": 0,
      "outputs": []
    },
    {
      "cell_type": "markdown",
      "metadata": {
        "colab_type": "text",
        "id": "aHY4kIhFHjvC"
      },
      "source": [
        "Ejecute la siguiente instrucción para dejar guardados en el notebook los resultados de las pruebas."
      ]
    },
    {
      "cell_type": "code",
      "metadata": {
        "colab_type": "code",
        "id": "DYiJMcMoHjvG",
        "scrolled": true,
        "colab": {}
      },
      "source": [
        "qgrid_widget.get_changed_df()"
      ],
      "execution_count": 0,
      "outputs": []
    },
    {
      "cell_type": "markdown",
      "metadata": {
        "colab_type": "text",
        "id": "leqYsEKxHjvU"
      },
      "source": [
        "<b>Responda</b>:\n",
        "\n",
        "4.1 ¿Qué tipo de función de activación usa el modelo en la capa de salida?: \n",
        "\n",
        "4.2 ¿Cuántas neuronas en la capa de salida tiene el modelo?¿Porqué debe tener ese número?"
      ]
    },
    {
      "cell_type": "code",
      "metadata": {
        "colab_type": "code",
        "id": "8xEvehBeHjvZ",
        "colab": {}
      },
      "source": [
        ""
      ],
      "execution_count": 0,
      "outputs": []
    }
  ]
}