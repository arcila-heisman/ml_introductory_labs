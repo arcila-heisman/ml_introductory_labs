{
  "nbformat": 4,
  "nbformat_minor": 0,
  "metadata": {
    "kernelspec": {
      "display_name": "Python 3",
      "language": "python",
      "name": "python3"
    },
    "language_info": {
      "codemirror_mode": {
        "name": "ipython",
        "version": 3
      },
      "file_extension": ".py",
      "mimetype": "text/x-python",
      "name": "python",
      "nbconvert_exporter": "python",
      "pygments_lexer": "ipython3",
      "version": "3.7.4"
    },
    "colab": {
      "name": "Laboratorio_5_parte_2.ipynb",
      "provenance": [],
      "include_colab_link": true
    }
  },
  "cells": [
    {
      "cell_type": "markdown",
      "metadata": {
        "id": "view-in-github",
        "colab_type": "text"
      },
      "source": [
        "<a href=\"https://colab.research.google.com/github/arcila-heisman/ml_introductory_labs/blob/master/Lab_5/Laboratorio_5_parte_2.ipynb\" target=\"_parent\"><img src=\"https://colab.research.google.com/assets/colab-badge.svg\" alt=\"Open In Colab\"/></a>"
      ]
    },
    {
      "cell_type": "markdown",
      "metadata": {
        "id": "Tr-6pgjaV4Jj",
        "colab_type": "text"
      },
      "source": [
        "# Laboratorio 5 - Parte 2\n",
        "\n",
        "### Máquinas de Vectores de Soporte\n",
        "\n",
        "### 2019-I\n",
        "\n",
        "#### Profesor: Julián D. Arias Londoño\n",
        "#### julian.ariasl@udea.edu.co\n",
        "\n",
        "Modificado por Heisman Arcila. (Versión original en: https://github.com/jdariasl/ML_IntroductoryCourse/tree/master/Labs)"
      ]
    },
    {
      "cell_type": "markdown",
      "metadata": {
        "id": "O1d-kpxwV4Jx",
        "colab_type": "text"
      },
      "source": [
        "## Guía del laboratorio\n",
        "\n",
        "En esta archivo va a encontrar tanto celdas de código cómo celdas de texto con las instrucciones para desarrollar el laboratorio.\n",
        "\n",
        "Lea atentamente las instrucciones entregadas en las celdas de texto correspondientes y proceda con la solución de las preguntas planteadas.\n",
        "\n",
        "Nota: no olvide ir ejecutando las celdas de código de arriba hacia abajo para que no tenga errores de importación de librerías o por falta de definición de variables."
      ]
    },
    {
      "cell_type": "markdown",
      "metadata": {
        "id": "Oqer9mUNV4J3",
        "colab_type": "text"
      },
      "source": [
        "#### Primer Integrante:\n",
        "#### C.C:\n",
        "#### Segundo Integrante:\n",
        "#### C.C:"
      ]
    },
    {
      "cell_type": "code",
      "metadata": {
        "id": "9iYb1FaTV4J7",
        "colab_type": "code",
        "colab": {}
      },
      "source": [
        "from __future__ import division\n",
        "import numpy as np\n",
        "import math\n",
        "import matplotlib.pyplot as plt\n",
        "#Algunas advertencias que queremos evitar\n",
        "import warnings\n",
        "warnings.filterwarnings(\"ignore\")"
      ],
      "execution_count": 0,
      "outputs": []
    },
    {
      "cell_type": "markdown",
      "metadata": {
        "id": "XIvveo7kV4KT",
        "colab_type": "text"
      },
      "source": [
        "## Ejercicio 1\n",
        "\n",
        "En este ejercicio usaremos la regresión por vectores de soporte para resolver el problema de regresión de la base de datos AirQuality (https://archive.ics.uci.edu/ml/datasets/Air+Quality)."
      ]
    },
    {
      "cell_type": "markdown",
      "metadata": {
        "id": "ir-wJo4-V4KY",
        "colab_type": "text"
      },
      "source": [
        "La siguiente celda de código limpia la base de datos de todos sus datos faltantes y la deja lista en la variable DataBase."
      ]
    },
    {
      "cell_type": "code",
      "metadata": {
        "id": "AmIjWFQeV4Kc",
        "colab_type": "code",
        "colab": {}
      },
      "source": [
        "#cargamos la bd de entrenamiento\n",
        "db = np.loadtxt('BDatos/AirQuality.data',delimiter='\\t')  # Assuming tab-delimiter\n",
        "print (\"Dim de la base de datos original: \" + str(np.shape(db)))\n",
        "db = db.reshape(9357,13)\n",
        "DataBase = db\n",
        "#La base d edatos AirQuality tiene muchos valores perdidos, vamos a quitar todos esos registros de la base de datos\n",
        "#Están marcados como -200. Donde haya un valor -200 eliminaremos el registro.\n",
        "\n",
        "j = np.sum(db[:,12]==-200)\n",
        "DataBase= db[db[:,12]!=-200]\n",
        "\n",
        "print (\"\\nHay \" + str(j) + \" valores perdidos en la variable de salida. :(\")\n",
        "\n",
        "print (\"\\nDim de la base de datos sin las muestras con variable de salida perdido \"+ str(np.shape(DataBase)))\n",
        "\n",
        "#Ya hemos eliminado los registros con valor de la variable de salida perdido.\n",
        "\n",
        "#Ahora vamos a imputar los valores perdidos en cada una de las características\n",
        "print (\"\\nProcesando imputación de valores perdidos en las características . . .\\n\")\n",
        "          \n",
        "for i in range(0,13):\n",
        "    col =  DataBase[:,i]\n",
        "    DataBase[:,i] = np.where(col==-200, round(np.mean(col)), col)\n",
        "\n",
        "print (\"Imputación finalizada.\\n\")\n",
        "\n",
        "if any(DataBase[DataBase==-200]):\n",
        "    print(\"Hay valores perdidos\")\n",
        "else:\n",
        "    print (\"No hay valores perdidos en la base de datos. Ahora se puede procesar. La base de datos está en la variable DataBase\")"
      ],
      "execution_count": 0,
      "outputs": []
    },
    {
      "cell_type": "code",
      "metadata": {
        "id": "WnH1n4ShV4Kt",
        "colab_type": "code",
        "colab": {}
      },
      "source": [
        "X = DataBase[:,0:12]\n",
        "\n",
        "Y = DataBase[:,12]"
      ],
      "execution_count": 0,
      "outputs": []
    },
    {
      "cell_type": "markdown",
      "metadata": {
        "id": "uwh_O_cvV4LN",
        "colab_type": "text"
      },
      "source": [
        "Definimos la función"
      ]
    },
    {
      "cell_type": "code",
      "metadata": {
        "id": "N7MVmf3VV4LT",
        "colab_type": "code",
        "colab": {}
      },
      "source": [
        "#Mean Absolute Percentage Error para los problemas de regresión\n",
        "def MAPE(Y_est,Y):\n",
        "    ind = Y != 0 #Remueve los elementos que son cero en la variable deseada\n",
        "    N = np.size(Y[ind])\n",
        "    mape = np.sum(abs((Y_est[ind].reshape(N,1) - Y[ind].reshape(N,1))/(Y[ind].reshape(N,1)+np.finfo(np.float).eps)))/N\n",
        "    return mape "
      ],
      "execution_count": 0,
      "outputs": []
    },
    {
      "cell_type": "markdown",
      "metadata": {
        "id": "tAaIYJG2V4Li",
        "colab_type": "text"
      },
      "source": [
        "Complete el código siguiente para usar la regresión por vectores de suporte usando la librería sklearn. https://scikit-learn.org/stable/modules/generated/sklearn.svm.SVR.html"
      ]
    },
    {
      "cell_type": "code",
      "metadata": {
        "id": "KMt3Q9z7V4Lo",
        "colab_type": "code",
        "colab": {}
      },
      "source": [
        "from sklearn.model_selection import KFold\n",
        "from sklearn import preprocessing\n",
        "from sklearn.svm import SVR\n",
        "import time\n",
        "tiempo_i = time.time()\n",
        "\n",
        "#Complete el código para crear el modelo SVM para regresión. \n",
        "#Use un kernel rbf con una malla de valores así: C en {0.1, 100} y gamma en {0.0001, 0.1}\n",
        "\n",
        "#clf = ...\n",
        "\n",
        "#Implemetamos la metodología de validación cross validation con 10 folds\n",
        "Folds = 5\n",
        "Errores = np.ones(Folds)\n",
        "j = 0\n",
        "kf = KFold(n_splits=Folds)\n",
        "\n",
        "for train_index, test_index in kf.split(X):\n",
        "    \n",
        "    X_train, X_test = X[train_index], X[test_index]\n",
        "    y_train, y_test = Y[train_index], Y[test_index]  \n",
        "       \n",
        "    #Complete el código\n",
        "    \n",
        "    \n",
        "    \n",
        "    # Entrenar el modelo\n",
        "    #modelo = ...\n",
        "    \n",
        "    \n",
        "    # Validación del modelo\n",
        "    #ypred = ...\n",
        " \n",
        "    Errores[j] = MAPE(ypred, y_test)\n",
        "    j+=1\n",
        "    \n",
        "print(\"\\nError de validación: \" + str(np.mean(Errores)) + \" +/- \" + str(np.std(Errores)))\n",
        "\n",
        "print (\"\\n\\nTiempo total de ejecución: \" + str(time.time()-tiempo_i)) + \" segundos.\""
      ],
      "execution_count": 0,
      "outputs": []
    },
    {
      "cell_type": "markdown",
      "metadata": {
        "id": "ucU-P1sHV4L6",
        "colab_type": "text"
      },
      "source": [
        "## Ejercicio 2\n",
        "\n",
        "Una vez complete el código, realice las simulaciones necesarias para llenar la tabla siguiente:"
      ]
    },
    {
      "cell_type": "code",
      "metadata": {
        "id": "wlW6JiHEV4L-",
        "colab_type": "code",
        "colab": {},
        "outputId": "03e896b2-d6c2-4807-c3df-b5ed4f1f3b6b"
      },
      "source": [
        "import pandas as pd\n",
        "import qgrid\n",
        "df_types = pd.DataFrame({\n",
        "    'Kernel' : pd.Series(['lineal','lineal','lineal','lineal','lineal','lineal','rbf','rbf','rbf','rbf','rbf','rbf','rbf','rbf','rbf','rbf','rbf','rbf','rbf','rbf','rbf','rbf','rbf','rbf']),\n",
        "    'C' : pd.Series([0.001,0.01,0.1,1,10,100,0.001,0.001,0.001,0.01,0.01,0.01,0.1,0.1,0.1,1,1,1,10,10,10,100,100,100]),\n",
        "    'gamma' : pd.Series([0,0,0,0,0,0,0.01,0.1,1,0.01,0.1,1,0.01,0.1,1,0.01,0.1,1,0.01,0.1,1,0.01,0.1,1])})\n",
        "df_types[\"MAPE Promedio\"] = \"\"\n",
        "df_types[\"Intervalo de confianza\"] = \"\"\n",
        "df_types[\"% de Vectores de Soporte\"] = \"\"\n",
        "df_types.set_index(['Kernel','C','gamma'], inplace=True)\n",
        "#Escriba acá su código\n",
        "\n",
        "\n",
        "# Valores de referencia\n",
        "# df_types[\"MAPE Promedio\"][23] = \"0.2259\"\n",
        "# df_types[\"Intervalo de confianza\"][23] = \"0.1109\"\n",
        "# df_types[\"% de Vectores de Soporte\"][23] = \"0.2191\"\n",
        "\n",
        "qgrid_widget = qgrid.show_grid(df_types, show_toolbar=False)\n",
        "qgrid_widget"
      ],
      "execution_count": 0,
      "outputs": [
        {
          "output_type": "display_data",
          "data": {
            "application/vnd.jupyter.widget-view+json": {
              "model_id": "a93f3e54b1b24ca3874586ee0d90883e",
              "version_major": 2,
              "version_minor": 0
            },
            "text/plain": [
              "UWdyaWRXaWRnZXQoZ3JpZF9vcHRpb25zPXsnaGlnaGxpZ2h0U2VsZWN0ZWRSb3cnOiBUcnVlLCAnZnVsbFdpZHRoUm93cyc6IFRydWUsICdyb3dIZWlnaHQnOiAyOCwgJ2VuYWJsZUNvbHVtblLigKY=\n"
            ]
          },
          "metadata": {
            "tags": []
          }
        }
      ]
    },
    {
      "cell_type": "markdown",
      "metadata": {
        "id": "3pa0Ja_qV4MU",
        "colab_type": "text"
      },
      "source": [
        "Ejecute la siguiente instrucción para dejar guardados en el notebook los resultados de las pruebas."
      ]
    },
    {
      "cell_type": "code",
      "metadata": {
        "id": "luRVTBfbV4MZ",
        "colab_type": "code",
        "colab": {},
        "outputId": "dd7a8757-d7b7-4ea6-e3f0-3403377fff1d"
      },
      "source": [
        "qgrid_widget.get_changed_df()"
      ],
      "execution_count": 0,
      "outputs": [
        {
          "output_type": "execute_result",
          "data": {
            "text/html": [
              "<div>\n",
              "<style scoped>\n",
              "    .dataframe tbody tr th:only-of-type {\n",
              "        vertical-align: middle;\n",
              "    }\n",
              "\n",
              "    .dataframe tbody tr th {\n",
              "        vertical-align: top;\n",
              "    }\n",
              "\n",
              "    .dataframe thead th {\n",
              "        text-align: right;\n",
              "    }\n",
              "</style>\n",
              "<table border=\"1\" class=\"dataframe\">\n",
              "  <thead>\n",
              "    <tr style=\"text-align: right;\">\n",
              "      <th></th>\n",
              "      <th></th>\n",
              "      <th></th>\n",
              "      <th>MAPE Promedio</th>\n",
              "      <th>Intervalo de confianza</th>\n",
              "      <th>% de Vectores de Soporte</th>\n",
              "    </tr>\n",
              "    <tr>\n",
              "      <th>Kernel</th>\n",
              "      <th>C</th>\n",
              "      <th>gamma</th>\n",
              "      <th></th>\n",
              "      <th></th>\n",
              "      <th></th>\n",
              "    </tr>\n",
              "  </thead>\n",
              "  <tbody>\n",
              "    <tr>\n",
              "      <th rowspan=\"6\" valign=\"top\">lineal</th>\n",
              "      <th>0.001</th>\n",
              "      <th>0.00</th>\n",
              "      <td></td>\n",
              "      <td></td>\n",
              "      <td></td>\n",
              "    </tr>\n",
              "    <tr>\n",
              "      <th>0.010</th>\n",
              "      <th>0.00</th>\n",
              "      <td></td>\n",
              "      <td></td>\n",
              "      <td></td>\n",
              "    </tr>\n",
              "    <tr>\n",
              "      <th>0.100</th>\n",
              "      <th>0.00</th>\n",
              "      <td></td>\n",
              "      <td></td>\n",
              "      <td></td>\n",
              "    </tr>\n",
              "    <tr>\n",
              "      <th>1.000</th>\n",
              "      <th>0.00</th>\n",
              "      <td></td>\n",
              "      <td></td>\n",
              "      <td></td>\n",
              "    </tr>\n",
              "    <tr>\n",
              "      <th>10.000</th>\n",
              "      <th>0.00</th>\n",
              "      <td></td>\n",
              "      <td></td>\n",
              "      <td></td>\n",
              "    </tr>\n",
              "    <tr>\n",
              "      <th>100.000</th>\n",
              "      <th>0.00</th>\n",
              "      <td></td>\n",
              "      <td></td>\n",
              "      <td></td>\n",
              "    </tr>\n",
              "    <tr>\n",
              "      <th rowspan=\"18\" valign=\"top\">rbf</th>\n",
              "      <th rowspan=\"3\" valign=\"top\">0.001</th>\n",
              "      <th>0.01</th>\n",
              "      <td></td>\n",
              "      <td></td>\n",
              "      <td></td>\n",
              "    </tr>\n",
              "    <tr>\n",
              "      <th>0.10</th>\n",
              "      <td></td>\n",
              "      <td></td>\n",
              "      <td></td>\n",
              "    </tr>\n",
              "    <tr>\n",
              "      <th>1.00</th>\n",
              "      <td></td>\n",
              "      <td></td>\n",
              "      <td></td>\n",
              "    </tr>\n",
              "    <tr>\n",
              "      <th rowspan=\"3\" valign=\"top\">0.010</th>\n",
              "      <th>0.01</th>\n",
              "      <td></td>\n",
              "      <td></td>\n",
              "      <td></td>\n",
              "    </tr>\n",
              "    <tr>\n",
              "      <th>0.10</th>\n",
              "      <td></td>\n",
              "      <td></td>\n",
              "      <td></td>\n",
              "    </tr>\n",
              "    <tr>\n",
              "      <th>1.00</th>\n",
              "      <td></td>\n",
              "      <td></td>\n",
              "      <td></td>\n",
              "    </tr>\n",
              "    <tr>\n",
              "      <th rowspan=\"3\" valign=\"top\">0.100</th>\n",
              "      <th>0.01</th>\n",
              "      <td></td>\n",
              "      <td></td>\n",
              "      <td></td>\n",
              "    </tr>\n",
              "    <tr>\n",
              "      <th>0.10</th>\n",
              "      <td></td>\n",
              "      <td></td>\n",
              "      <td></td>\n",
              "    </tr>\n",
              "    <tr>\n",
              "      <th>1.00</th>\n",
              "      <td></td>\n",
              "      <td></td>\n",
              "      <td></td>\n",
              "    </tr>\n",
              "    <tr>\n",
              "      <th rowspan=\"3\" valign=\"top\">1.000</th>\n",
              "      <th>0.01</th>\n",
              "      <td></td>\n",
              "      <td></td>\n",
              "      <td></td>\n",
              "    </tr>\n",
              "    <tr>\n",
              "      <th>0.10</th>\n",
              "      <td></td>\n",
              "      <td></td>\n",
              "      <td></td>\n",
              "    </tr>\n",
              "    <tr>\n",
              "      <th>1.00</th>\n",
              "      <td></td>\n",
              "      <td></td>\n",
              "      <td></td>\n",
              "    </tr>\n",
              "    <tr>\n",
              "      <th rowspan=\"3\" valign=\"top\">10.000</th>\n",
              "      <th>0.01</th>\n",
              "      <td></td>\n",
              "      <td></td>\n",
              "      <td></td>\n",
              "    </tr>\n",
              "    <tr>\n",
              "      <th>0.10</th>\n",
              "      <td></td>\n",
              "      <td></td>\n",
              "      <td></td>\n",
              "    </tr>\n",
              "    <tr>\n",
              "      <th>1.00</th>\n",
              "      <td></td>\n",
              "      <td></td>\n",
              "      <td></td>\n",
              "    </tr>\n",
              "    <tr>\n",
              "      <th rowspan=\"3\" valign=\"top\">100.000</th>\n",
              "      <th>0.01</th>\n",
              "      <td></td>\n",
              "      <td></td>\n",
              "      <td></td>\n",
              "    </tr>\n",
              "    <tr>\n",
              "      <th>0.10</th>\n",
              "      <td></td>\n",
              "      <td></td>\n",
              "      <td></td>\n",
              "    </tr>\n",
              "    <tr>\n",
              "      <th>1.00</th>\n",
              "      <td>0.2259</td>\n",
              "      <td>0.1109</td>\n",
              "      <td>0.2191</td>\n",
              "    </tr>\n",
              "  </tbody>\n",
              "</table>\n",
              "</div>"
            ],
            "text/plain": [
              "                     MAPE Promedio Intervalo de confianza  \\\n",
              "Kernel C       gamma                                        \n",
              "lineal 0.001   0.00                                         \n",
              "       0.010   0.00                                         \n",
              "       0.100   0.00                                         \n",
              "       1.000   0.00                                         \n",
              "       10.000  0.00                                         \n",
              "       100.000 0.00                                         \n",
              "rbf    0.001   0.01                                         \n",
              "               0.10                                         \n",
              "               1.00                                         \n",
              "       0.010   0.01                                         \n",
              "               0.10                                         \n",
              "               1.00                                         \n",
              "       0.100   0.01                                         \n",
              "               0.10                                         \n",
              "               1.00                                         \n",
              "       1.000   0.01                                         \n",
              "               0.10                                         \n",
              "               1.00                                         \n",
              "       10.000  0.01                                         \n",
              "               0.10                                         \n",
              "               1.00                                         \n",
              "       100.000 0.01                                         \n",
              "               0.10                                         \n",
              "               1.00         0.2259                 0.1109   \n",
              "\n",
              "                     % de Vectores de Soporte  \n",
              "Kernel C       gamma                           \n",
              "lineal 0.001   0.00                            \n",
              "       0.010   0.00                            \n",
              "       0.100   0.00                            \n",
              "       1.000   0.00                            \n",
              "       10.000  0.00                            \n",
              "       100.000 0.00                            \n",
              "rbf    0.001   0.01                            \n",
              "               0.10                            \n",
              "               1.00                            \n",
              "       0.010   0.01                            \n",
              "               0.10                            \n",
              "               1.00                            \n",
              "       0.100   0.01                            \n",
              "               0.10                            \n",
              "               1.00                            \n",
              "       1.000   0.01                            \n",
              "               0.10                            \n",
              "               1.00                            \n",
              "       10.000  0.01                            \n",
              "               0.10                            \n",
              "               1.00                            \n",
              "       100.000 0.01                            \n",
              "               0.10                            \n",
              "               1.00                    0.2191  "
            ]
          },
          "metadata": {
            "tags": []
          },
          "execution_count": 59
        }
      ]
    },
    {
      "cell_type": "markdown",
      "metadata": {
        "id": "0U_VEaGjV4Mq",
        "colab_type": "text"
      },
      "source": [
        "2.1 ¿Cuál es la finalidad de usar las funciones kernel en el modelo SVM?\n",
        "\n",
        "R/:\n",
        "\n",
        "2.2 ¿En este caso el porcentaje de vectores de soporte provee una información similar que en el problema de clasificación? Explique su respuesta.\n",
        "\n",
        "R/:\n"
      ]
    },
    {
      "cell_type": "markdown",
      "metadata": {
        "id": "8AueithhV4Mw",
        "colab_type": "text"
      },
      "source": [
        "2.3 Realice una gráfica de las salidas reales vs las predicciones del modelo SVM, para evaluar visualmente el desempeño del mismo. Esto solo para la configuración en la cuál se encontró el menor error."
      ]
    },
    {
      "cell_type": "code",
      "metadata": {
        "id": "6i2yvY6DV4M0",
        "colab_type": "code",
        "colab": {}
      },
      "source": [
        "'''Complete el código para hacer la gráfica aquí'''"
      ],
      "execution_count": 0,
      "outputs": []
    },
    {
      "cell_type": "code",
      "metadata": {
        "id": "NKRcvcbzV4NC",
        "colab_type": "code",
        "colab": {}
      },
      "source": [
        ""
      ],
      "execution_count": 0,
      "outputs": []
    }
  ]
}